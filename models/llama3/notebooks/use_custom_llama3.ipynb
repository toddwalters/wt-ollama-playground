{
 "cells": [
  {
   "cell_type": "code",
   "execution_count": null,
   "metadata": {},
   "outputs": [],
   "source": [
    "import requests, os\n",
    "OLLAMA_API = os.environ.get(\"OLLAMA_API_BASE_URL\", \"http://localhost:11434\")\n",
    "response = requests.post(\n",
    "    f\"{OLLAMA_API}/api/generate\",\n",
    "    json={\n",
    "        \"model\": \"llama3-instruct\",\n",
    "        \"prompt\": open(\"/workspace/models/llama3/prompts/explain_modelfile.txt\").read(),\n",
    "        \"stream\": False\n",
    "    }\n",
    ")\n",
    "print(response.json()[\"response\"])"
   ]
  }
 ],
 "metadata": {
  "kernelspec": {
   "display_name": "Python 3",
   "language": "python",
   "name": "python3"
  },
  "language_info": {
   "name": "python",
   "version": ""
  }
 },
 "nbformat": 4,
 "nbformat_minor": 2
}