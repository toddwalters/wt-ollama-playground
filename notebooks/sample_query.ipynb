{
 "cells": [
  {
   "cell_type": "code",
   "execution_count": null,
   "metadata": {},
   "outputs": [],
   "source": [
    "import os\n",
    "import requests\n",
    "import json\n",
    "\n",
    "# Ollama API endpoint (set in devcontainer.json)\n",
    "base_url = os.getenv(\"OLLAMA_API_BASE_URL\", \"http://host.docker.internal:11434\")\n",
    "\n",
    "# Prompt payload\n",
    "payload = {\n",
    "    \"model\": \"llama3\",\n",
    "    \"prompt\": \"What are the benefits of running LLMs locally using Ollama?\",\n",
    "    \"stream\": False\n",
    "}\n",
    "\n",
    "# Send the request\n",
    "response = requests.post(f\"{base_url}/api/generate\", json=payload)\n",
    "print(\"\\nModel Response:\\n\")\n",
    "print(response.json().get(\"response\", \"No response returned.\"))"
   ]
  }
 ],
 "metadata": {
  "kernelspec": {
   "display_name": "Python 3",
   "language": "python",
   "name": "python3"
  },
  "language_info": {
   "name": "python",
   "version": ""
  }
 },
 "nbformat": 4,
 "nbformat_minor": 2
}
