{
 "cells": [
  {
   "cell_type": "code",
   "execution_count": null,
   "metadata": {},
   "outputs": [
    {
     "name": "stdout",
     "output_type": "stream",
     "text": [
      "\n",
      "Model Response:\n",
      "\n",
      "No response returned.\n"
     ]
    }
   ],
   "source": [
    "import os\n",
    "import requests\n",
    "import json\n",
    "\n",
    "# Ollama API endpoint and model from environment variables\n",
    "base_url = os.getenv(\"OLLAMA_API_BASE_URL\", \"http://host.docker.internal:11434\")\n",
    "model_name = os.getenv(\"OLLAMA_BASE_MODEL\", \"llama3\")\n",
    "\n",
    "# Prompt payload\n",
    "payload = {\n",
    "    \"model\": model_name,\n",
    "    \"prompt\": \"What are the benefits of running LLMs locally using Ollama?\",\n",
    "    \"stream\": False\n",
    "}\n",
    "\n",
    "# Send the request\n",
    "response = requests.post(f\"{base_url}/api/generate\", json=payload)\n",
    "print(f\"\\nModel Response from {model_name}:\\n\")\n",
    "print(response.json().get(\"response\", \"No response returned.\"))"
   ]
  }
 ],
 "metadata": {
  "kernelspec": {
   "display_name": "Python 3",
   "language": "python",
   "name": "python3"
  },
  "language_info": {
   "codemirror_mode": {
    "name": "ipython",
    "version": 3
   },
   "file_extension": ".py",
   "mimetype": "text/x-python",
   "name": "python",
   "nbconvert_exporter": "python",
   "pygments_lexer": "ipython3",
   "version": "3.11.12"
  }
 },
 "nbformat": 4,
 "nbformat_minor": 2
}
